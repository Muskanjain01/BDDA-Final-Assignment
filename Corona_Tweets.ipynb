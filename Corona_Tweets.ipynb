{
 "cells": [
  {
   "cell_type": "code",
   "execution_count": 1,
   "metadata": {},
   "outputs": [],
   "source": [
    "from pyspark.sql import SparkSession #Import the spark session\n",
    "from pyspark.ml.feature import StringIndexer, RegexTokenizer, StopWordsRemover, HashingTF, IDF, VectorAssembler\n",
    "from pyspark.sql.functions import count, udf, when, isnan, isnull, col\n",
    "from pyspark.sql.types import IntegerType\n",
    "from pyspark.ml.linalg import Vector\n",
    "\n",
    "from pyspark.ml import Pipeline #Build a pipeline\n",
    "from pyspark.ml.classification import NaiveBayes\n",
    "from pyspark.ml.evaluation import MulticlassClassificationEvaluator\n",
    "from pyspark.ml.classification import LogisticRegression\n",
    "from pyspark.ml.evaluation import BinaryClassificationEvaluator\n",
    "\n",
    "import warnings\n",
    "warnings.filterwarnings(\"ignore\")"
   ]
  },
  {
   "cell_type": "code",
   "execution_count": 2,
   "metadata": {},
   "outputs": [],
   "source": [
    "#Creating a spark session\n",
    "spark= SparkSession.builder.appName('Problem1').getOrCreate()"
   ]
  },
  {
   "cell_type": "code",
   "execution_count": 3,
   "metadata": {},
   "outputs": [],
   "source": [
    "df=spark.read.csv('Corona_NLP_train.csv', header=True, inferSchema=True)"
   ]
  },
  {
   "cell_type": "code",
   "execution_count": 4,
   "metadata": {},
   "outputs": [
    {
     "name": "stdout",
     "output_type": "stream",
     "text": [
      "+--------------------+--------------------+--------------------+--------------------+--------------------+---------+\n",
      "|            UserName|          ScreenName|            Location|             TweetAt|       OriginalTweet|Sentiment|\n",
      "+--------------------+--------------------+--------------------+--------------------+--------------------+---------+\n",
      "|                3799|               48751|              London|          16-03-2020|@MeNyrbie @Phil_G...|  Neutral|\n",
      "|                3800|               48752|                  UK|          16-03-2020|advice Talk to yo...| Positive|\n",
      "|                3801|               48753|           Vagabonds|          16-03-2020|Coronavirus Austr...| Positive|\n",
      "|                3802|               48754|                null|          16-03-2020|My food stock is ...|     null|\n",
      "|              PLEASE|         don't panic| THERE WILL BE EN...|                null|                null|     null|\n",
      "|           Stay calm|          stay safe.|                null|                null|                null|     null|\n",
      "|#COVID19france #C...|            Positive|                null|                null|                null|     null|\n",
      "|                3803|               48755|                null|          16-03-2020|Me, ready to go a...|     null|\n",
      "|Not because I'm p...| but because my f...|          but please| don't panic. It ...|                null|     null|\n",
      "|#CoronavirusFranc...|  Extremely Negative|                null|                null|                null|     null|\n",
      "|                3804|               48756|ÜT: 36.319708,-82...|          16-03-2020|As news of the re...| Positive|\n",
      "|                3805|               48757|35.926541,-78.753267|          16-03-2020|\"Cashier at groce...| Positive|\n",
      "|                3806|               48758|             Austria|          16-03-2020|Was at the superm...|     null|\n",
      "|#toiletpapercrisi...|             Neutral|                null|                null|                null|     null|\n",
      "|                3807|               48759|     Atlanta, GA USA|          16-03-2020|Due to COVID-19 o...| Positive|\n",
      "|                3808|               48760|    BHAVNAGAR,GUJRAT|          16-03-2020|For corona preven...| Negative|\n",
      "|                3809|               48761|      Makati, Manila|          16-03-2020|All month there h...|  Neutral|\n",
      "|                3810|               48762|Pitt Meadows, BC,...|          16-03-2020|Due to the Covid-...|     null|\n",
      "|The wait time may...| particularly bee...|                null|                null|                null|     null|\n",
      "|We thank you for ...|  Extremely Positive|                null|                null|                null|     null|\n",
      "+--------------------+--------------------+--------------------+--------------------+--------------------+---------+\n",
      "only showing top 20 rows\n",
      "\n"
     ]
    }
   ],
   "source": [
    "df.show()"
   ]
  },
  {
   "cell_type": "code",
   "execution_count": 5,
   "metadata": {},
   "outputs": [
    {
     "name": "stdout",
     "output_type": "stream",
     "text": [
      "+--------+----------+--------+-------+-------------+---------+\n",
      "|UserName|ScreenName|Location|TweetAt|OriginalTweet|Sentiment|\n",
      "+--------+----------+--------+-------+-------------+---------+\n",
      "|       4|     12417|   33799|  26311|        26663|    39429|\n",
      "+--------+----------+--------+-------+-------------+---------+\n",
      "\n"
     ]
    }
   ],
   "source": [
    "#calculate the null values in column\n",
    "df.select([count(when(isnan(c) | col(c).isNull(), c)).alias(c) for c in df.columns]).show()"
   ]
  },
  {
   "cell_type": "code",
   "execution_count": 6,
   "metadata": {},
   "outputs": [],
   "source": [
    "#drop the rows having null values\n",
    "df=df.na.drop(how=\"any\")"
   ]
  },
  {
   "cell_type": "code",
   "execution_count": 7,
   "metadata": {},
   "outputs": [],
   "source": [
    "df_SI = [StringIndexer(inputCol=\"Sentiment\", outputCol=\"Target\").fit(df)]"
   ]
  },
  {
   "cell_type": "code",
   "execution_count": 8,
   "metadata": {},
   "outputs": [],
   "source": [
    "pipeline = Pipeline(stages=df_SI)\n",
    "df1 = pipeline.fit(df).transform(df)"
   ]
  },
  {
   "cell_type": "code",
   "execution_count": 9,
   "metadata": {},
   "outputs": [
    {
     "name": "stdout",
     "output_type": "stream",
     "text": [
      "+--------+----------+--------------------+----------+--------------------+------------------+------+\n",
      "|UserName|ScreenName|            Location|   TweetAt|       OriginalTweet|         Sentiment|Target|\n",
      "+--------+----------+--------------------+----------+--------------------+------------------+------+\n",
      "|    3799|     48751|              London|16-03-2020|@MeNyrbie @Phil_G...|           Neutral|   2.0|\n",
      "|    3800|     48752|                  UK|16-03-2020|advice Talk to yo...|          Positive|   0.0|\n",
      "|    3801|     48753|           Vagabonds|16-03-2020|Coronavirus Austr...|          Positive|   0.0|\n",
      "|    3804|     48756|ÜT: 36.319708,-82...|16-03-2020|As news of the re...|          Positive|   0.0|\n",
      "|    3805|     48757|35.926541,-78.753267|16-03-2020|\"Cashier at groce...|          Positive|   0.0|\n",
      "|    3807|     48759|     Atlanta, GA USA|16-03-2020|Due to COVID-19 o...|          Positive|   0.0|\n",
      "|    3808|     48760|    BHAVNAGAR,GUJRAT|16-03-2020|For corona preven...|          Negative|   1.0|\n",
      "|    3809|     48761|      Makati, Manila|16-03-2020|All month there h...|           Neutral|   2.0|\n",
      "|    3811|     48763|          Horningsea|16-03-2020|#horningsea is a ...|Extremely Positive|   3.0|\n",
      "|    3818|     48770|          Denver, CO|16-03-2020|For those who are...|          Positive|   0.0|\n",
      "|    3819|     48771|southampton soxx xxx|16-03-2020|with 100  nations...|Extremely Negative|   4.0|\n",
      "|    3823|     48775|    Downstage centre|16-03-2020|@10DowningStreet ...|          Negative|   1.0|\n",
      "|    3824|     48776|              London|16-03-2020|UK #consumer poll...|Extremely Positive|   3.0|\n",
      "|    3825|     48777|      Ketchum, Idaho|16-03-2020|In preparation fo...|          Negative|   1.0|\n",
      "|    3826|     48778| Everywhere You Are!|16-03-2020|This morning I te...|Extremely Negative|   4.0|\n",
      "|    3834|     48786|             Sverige|16-03-2020|Went to the super...|           Neutral|   2.0|\n",
      "|    3836|     48788|              Canada|16-03-2020|Worried about the...|          Positive|   0.0|\n",
      "|    3838|     48790|       United States|16-03-2020|Now I can go to t...|          Positive|   0.0|\n",
      "|    3841|     48793|             Houston|16-03-2020|CHECK VIDEO ?? ht...|Extremely Negative|   4.0|\n",
      "|    3842|     48794|Vancouver, Britis...|16-03-2020|Breaking Story: O...|           Neutral|   2.0|\n",
      "+--------+----------+--------------------+----------+--------------------+------------------+------+\n",
      "only showing top 20 rows\n",
      "\n"
     ]
    }
   ],
   "source": [
    "df1.show()"
   ]
  },
  {
   "cell_type": "code",
   "execution_count": 10,
   "metadata": {},
   "outputs": [],
   "source": [
    "#decode_map = {0: \"Neutral\", 1: \"Positive\",1:\"Extremely Positive\",2:\"Extremely Negative\",2:\"Negative\"}\n",
    "def decode_sentiment(label):\n",
    "    if label == \"Positive\" or label == \"Extremely Positive\":\n",
    "        return \"Positive\"\n",
    "    elif label == \"Negative\" or label == \"Extremely Negative\":\n",
    "        return \"Negative\"\n",
    "    else:\n",
    "        return \"Neutral\""
   ]
  },
  {
   "cell_type": "code",
   "execution_count": 11,
   "metadata": {},
   "outputs": [],
   "source": [
    "#making udf\n",
    "stringNumber = udf(lambda m: decode_sentiment(m))"
   ]
  },
  {
   "cell_type": "code",
   "execution_count": 12,
   "metadata": {},
   "outputs": [
    {
     "data": {
      "text/plain": [
       "[Row(Sentiment=' online education'),\n",
       " Row(Sentiment=' potatoes &amp; vegetables??'),\n",
       " Row(Sentiment=' only a few preliminary conclusions can be cautiously advanced. Firstly'),\n",
       " Row(Sentiment=' Vaccines and Treatments\"\": Because #COVID19 has never been seen in humans before'),\n",
       " Row(Sentiment=' #virus'),\n",
       " Row(Sentiment=' consumer and more. Please RT!'),\n",
       " Row(Sentiment=' Mumbai or Pune'),\n",
       " Row(Sentiment='000 tests for COVID-19 to 13 states....'),\n",
       " Row(Sentiment=' spot the scams\"\" https://t.co/UvLZ9lOO0v #FTC #scams #coronavirus\"'),\n",
       " Row(Sentiment=' claiming the news station'),\n",
       " Row(Sentiment=' they should add \"\"moronic attacks\"\". https://t.co/Efyg77aw6L\"'),\n",
       " Row(Sentiment=' as lower oil prices and a dip in economic activity amid the #coronavirus pandemic more than offset upward pressure from the lira\\x92s depreciation.\"\" @cagankoc\\'s @economics report:'),\n",
       " Row(Sentiment=' IFB vice president: https://t.co/oe6lKTyjku https://t.co/YW7KJMEHPC\"'),\n",
       " Row(Sentiment=' teachers'),\n",
       " Row(Sentiment=' but we have to acknowledge life is weird right now. That from a place where life is still relatively unchanged thus far.  #Covid_19\"'),\n",
       " Row(Sentiment=' the company producing remdesivir'),\n",
       " Row(Sentiment=' a stock market nose-dive'),\n",
       " Row(Sentiment=' so'),\n",
       " Row(Sentiment=' Bakery etc. This isour \"\"Islamic Republic of Pakistan\"\". Shameful moment for #PTI government #Covid_19\"'),\n",
       " Row(Sentiment=' we take a look at how the supply chains are changing in other parts of the world.'),\n",
       " Row(Sentiment=' Big Tech could benefit from changes in consumer habits.\"\" https://t.co/ZHO48KP0LI GATE is here to provide you with the tech-saavy staff that you need to keep your business successful'),\n",
       " Row(Sentiment=' thermometers and baby formula despite crackdown\"\"'),\n",
       " Row(Sentiment=' truck drivers'),\n",
       " Row(Sentiment='\"\" https://t.co/15hXYLlu0g'),\n",
       " Row(Sentiment=' 6 ft apart STAY HOME\"'),\n",
       " Row(Sentiment=' we often let fear drive our purchase behavior. Here is an example re those needing gluten free items'),\n",
       " Row(Sentiment=' as the world grapples with Coronavirus contagion. I\\'m not saying we should mercilessly beat people who do this but....yeah. #coronavirus https://t.co/MfmVeBoe3R\"'),\n",
       " Row(Sentiment=' prices may drop far below where they were before. #coronavirus\"'),\n",
       " Row(Sentiment=\" Totino's would like all of our customers to know that since half of America will not leave the house for weeks during this covid-19 crisis\"),\n",
       " Row(Sentiment=' containing chloroquine phosphate'),\n",
       " Row(Sentiment=' shrinking habitat'),\n",
       " Row(Sentiment='000 workers to its fulfillment and delivery network to deal with a surge in online shopping'),\n",
       " Row(Sentiment=' the first step in that direction would be seeing sellers drop their listing prices. \\'That hasn\\'t happened.\\' \"\" https://t.co/EpIzl5CZsh\"'),\n",
       " Row(Sentiment='\"\" Grubhub officials said in a statement Monday. https://t.co/ltueKpL5Pz\"'),\n",
       " Row(Sentiment=' the more lives were saved.\"\" Great read via @NPR ?? https://t.co/0QcNWNSwgm\"'),\n",
       " Row(Sentiment=' that are currently doing all the panic buying and hoarding of goods. People on benefits can barely afford the essentials let alone hoard food and toilet rolls'),\n",
       " Row(Sentiment=' wipe the door knob - go wash. It\\'\"'),\n",
       " Row(Sentiment=' or click the links\"\" #AlwaysWatchingOutForYou'),\n",
       " Row(Sentiment=' oil prices fall'),\n",
       " Row(Sentiment=' let\\'s not hoard. Consider dropping food at the local Food Bank; the poor can\\'t afford to stock up. There CAN be love in the time of COVID-19.\"\"'),\n",
       " Row(Sentiment='\"\" \"\"pharmacy'),\n",
       " Row(Sentiment=' with hundreds more expected to close on Wednesday as the situation accelerates.\"\" https://t.co/1g5LytnTQX @RetailInsider_\"'),\n",
       " Row(Sentiment=' the ones who have currently lost their jobs'),\n",
       " Row(Sentiment=' wise words via @morhafalachkar  @UWMedicine \"\"If you have two rolls of toilet paper or two containers of hand sanitizer'),\n",
       " Row(Sentiment=\" state governors say they're now bidding against federal agencies and each other for scarce supplies\"),\n",
       " Row(Sentiment=' transportation'),\n",
       " Row(Sentiment=' etc please contact Cheney Brothers at 478-250-3699. Office: 352-291-7800'),\n",
       " Row(Sentiment=' #Boris. #coronavirus #blackmarket #spivs\"'),\n",
       " Row(Sentiment=' will continue offering online shopping\"\" https://t.co/znVBAKJ44E\"'),\n",
       " Row(Sentiment=' supermarket workers -'),\n",
       " Row(Sentiment=' all skyrocket in use'),\n",
       " Row(Sentiment=' unprecedented backdrop'),\n",
       " Row(Sentiment='fulfillment centers'),\n",
       " Row(Sentiment='\"\" said @DrAlexaMieses COVID-19 Infection Likely Worse for Vapers'),\n",
       " Row(Sentiment=' AND WHAT THEY MEAN FOR MARKETERS\"\" @adage\"'),\n",
       " Row(Sentiment=' whether that\\x92s direct-to-consumer'),\n",
       " Row(Sentiment=' or a range bc wait times are up #COVID19nz\"'),\n",
       " Row(Sentiment=' putting all grocery workers at great risk? @OutnumberedOT\"'),\n",
       " Row(Sentiment=' higher for other plays. Halliburton reportedly said low oil prices would lead to 2/3 of rigs gone by Q4. US oil sb in good decline when COVID-19 eases #OOTT https://t.co/Ob44oCvWw1\"'),\n",
       " Row(Sentiment=' we\\x92ve come to see that there\\x92s a very specific kind of alcohol that pretty much everybody needs'),\n",
       " Row(Sentiment=' to work'),\n",
       " Row(Sentiment=' there is a good chance that inflation will be negative for a period of time this year'),\n",
       " Row(Sentiment=' queues'),\n",
       " Row(Sentiment=' blaming #coronavirus on USA and Italy'),\n",
       " Row(Sentiment=' dramatically curtailing consumer demand.\"\"'),\n",
       " Row(Sentiment=' Corona Virus'),\n",
       " Row(Sentiment=\" or as normal as we'll be after this\"),\n",
       " Row(Sentiment=' staff our hospitals'),\n",
       " Row(Sentiment=' D2C #ecommerce sales reached $14.28 billion in US. Per forecast 2020 sales will grow by 24.3%'),\n",
       " Row(Sentiment=' but 32% are shifting to completely buying online rather than shopping in physical stores\"\"'),\n",
       " Row(Sentiment=' \"\"You\\'d better stock up!\"\"'),\n",
       " Row(Sentiment='\"\" https://t.co/q4RrAiz8KZ'),\n",
       " Row(Sentiment=' ensuring that low oil prices  [will] force all producers to [cut production].\"\"'),\n",
       " Row(Sentiment=' to move to online/remote learning. But children of essential workers will still be able to go to school'),\n",
       " Row(Sentiment=' M.D.'),\n",
       " Row(Sentiment=' including loan guarantees\"\"'),\n",
       " Row(Sentiment=' milk and paper items are taking off the racks as quick as they are restocked after the interest for staple things flooded since the World Health Organization (WHO) \\x85 https://t.co/0BY8vLhET6\"\"\"'),\n",
       " Row(Sentiment=' cash-points'),\n",
       " Row(Sentiment=' and lynx\\'s doorstep visit delights social media users. https://t.co/ZqetoX6Xrs\"'),\n",
       " Row(Sentiment=' like ocean freight to keep costs down. But bc of ??demand'),\n",
       " Row(Sentiment=' it was possible to at least wishfully imagine that grocery stores were somehow immune to the virus. Now the risk has become even more apparent: Yes'),\n",
       " Row(Sentiment=' where professionals across all levels and across Ireland are needed.\"\" Read; https://t.co/GGSkQ36tmq https://t.co/k2Y2zX39qC\"'),\n",
       " Row(Sentiment=' arrested for licking food items in a supermarket and posting video of it.'),\n",
       " Row(Sentiment=' but not vulnerable countries: the pandemic poses a serious threat to food security at the local level.\"\" Read more here: https://t.co/ykY4CuGdoZ https://t.co/wh6IFGXl7z\"'),\n",
       " Row(Sentiment=' the COVID-19 pandemic creates an obligation for payers to offer people \\x96 customers'),\n",
       " Row(Sentiment=' sources said on Thursday. '),\n",
       " Row(Sentiment=' does it? #coronavirus #WuhanCoronaVirus #COVID?19\"'),\n",
       " Row(Sentiment=' needed medical supplies'),\n",
       " Row(Sentiment='it would be  as if they\\'ve saved all mankind\"\"'),\n",
       " Row(Sentiment=' with #crudeoil prices down more than 60% this year. #oilpricewar https://t.co/qvKZNh0ocS\"'),\n",
       " Row(Sentiment=' stockroom staff'),\n",
       " Row(Sentiment=' we can overcome fear and panic - and as a community'),\n",
       " Row(Sentiment=' as U.S. companies and government officials seek a smooth-flowing food-supply chain without causing panic over potential shortages and worker safety.\"\"'),\n",
       " Row(Sentiment=' our bank tellers'),\n",
       " Row(Sentiment=' however'),\n",
       " Row(Sentiment=' No Service\"\" policies in place'),\n",
       " Row(Sentiment='\"\" @RapidanEnergy\\'s Bob McNally discusses the new OPEC+ agreement'),\n",
       " Row(Sentiment=' farmers and ranchers are eager to work with the Agriculture Department to bridge the supply gap and get farm products to those in need...\"\"'),\n",
       " Row(Sentiment=' announced ...click on image to read on...pls retweet :-) https://t.co/RhSMXTfX9C\"'),\n",
       " Row(Sentiment=' 4 weeks after COVID-19 began to spread'),\n",
       " Row(Sentiment=' we will come to the travel consumer\"\": https://t.co/uAffw42Hyh\"'),\n",
       " Row(Sentiment=' no will to draw\"'),\n",
       " Row(Sentiment=' experts say.'),\n",
       " Row(Sentiment=' please save them from this COVID-19. Please sustain them and let them feel your comfort and love ??\"'),\n",
       " Row(Sentiment=' #shoemaking'),\n",
       " Row(Sentiment=' who had died from #CoronaVirus. Now it started snowing. #Signs...listen to them!'),\n",
       " Row(Sentiment=' a new dawn of supermarket #logistics is at hand. After 40 years of just-in-time delivery model'),\n",
       " Row(Sentiment=' how salty could it be?\"\"'),\n",
       " Row(Sentiment=' pay for childcare and stock up on food.\"\"  https://t.co/VSJA1hp6RF\"'),\n",
       " Row(Sentiment=' now he needs our help fighting Corona'),\n",
       " Row(Sentiment=' and things are never going to go back to the way they were\"\"'),\n",
       " Row(Sentiment=' to protect each other'),\n",
       " Row(Sentiment=' \"\"We\\'ll be\\x85 https://t.co/e49zUcJV70\"'),\n",
       " Row(Sentiment=' I presume that you won\\'t jack up prices.\"'),\n",
       " Row(Sentiment=' pants and jocks that I was wearing on that particular day.\"\" #YouCantAskThat - Tonight 9pm. https://t.co/o58GSj7xqY\"'),\n",
       " Row(Sentiment=\"\\xa0when I also received a letter today saying you're putting your prices up\"),\n",
       " Row(Sentiment=' tests'),\n",
       " Row(Sentiment=' just keeping track.\"\"'),\n",
       " Row(Sentiment=' masks are still being listed! #PriceGouging #Hoarding #COVIDIOTS #COVID19 #coronavirus https://t.co/RaEbR6V6mg\"'),\n",
       " Row(Sentiment=' we need to start thinking about what this will look like \"\"after.\"\" What changes do we need to make? How will our customers be different or buy differently? &gt;&gt; The consumer after COVID-19 https://t.co/Z5GIXJvJgL\"'),\n",
       " Row(Sentiment=' including comfy bras'),\n",
       " Row(Sentiment=' grocery store shortages'),\n",
       " Row(Sentiment=' harvesting as many chickens as we can'),\n",
       " Row(Sentiment=' but the company cannot control the prices dealers or retailers charge for 3M respirators.\"\" https://t.co/AGlPcRqw40\"'),\n",
       " Row(Sentiment='\"\" the food &amp; drink giant is ramping up hiring and offering more benefits to workers: https://t.co/GJhr0qMlOg\"'),\n",
       " Row(Sentiment=' but not any of the\"'),\n",
       " Row(Sentiment=' increased demand long way off. @LSUResearch @LSUNews #oilandgas #coronavirus https://t.co/22ZNy1ShxW\"'),\n",
       " Row(Sentiment=' N.Y. Hospital Converts Sleep Apnea Machines Into Ventilators\"\"'),\n",
       " Row(Sentiment=' normalcy pre-and-post coronavirus will be different.\"\"'),\n",
       " Row(Sentiment=' and Attorney General Paxton advises all Texans to be on alert for electronic communications with dangerous attachments or fraudulent website links.\"\" #txlege #COVID19'),\n",
       " Row(Sentiment=' cruise'),\n",
       " Row(Sentiment=' this is nothing to do w/ socialism and everything to do with panic'),\n",
       " Row(Sentiment=' sanitizing intensive care units'),\n",
       " Row(Sentiment=' grocery workers increasingly fear showing up at work https://t.co/FZf7zhCxYM\"'),\n",
       " Row(Sentiment=' 2019'),\n",
       " Row(Sentiment=' school staff and delivery drivers.\"\" '),\n",
       " Row(Sentiment=' there are smart steps to take to keep your baby healthy and fed.\"\"'),\n",
       " Row(Sentiment=' views of meditation-related videos are 51% higher than the same period in 2019'),\n",
       " Row(Sentiment='000 troops in Afghanistan; now he\\x92s making sure you don\\x92t run out of food during the #coronavirus crisis.\"\" @kgilsinan reports: https://t.co/uu5bI3pgxX\"'),\n",
       " Row(Sentiment=' we will get through this.\"\" '),\n",
       " Row(Sentiment='\"\" and added'),\n",
       " Row(Sentiment=' and could shape consumer sentiment and future policy decisions.\"\" #OWHealth https://t.co/vPgoT6CWjl\"'),\n",
       " Row(Sentiment=' wait until people are fighting over food\"\" - the worst people are in charge at the worst possible time. #COVID19 #coronavirus #BorisJohnson #ToriesOut\"'),\n",
       " Row(Sentiment=' die from hunger.854 million people worldwide are estimated to be undernourished'),\n",
       " Row(Sentiment=' mechanics etc still out there too!'),\n",
       " Row(Sentiment=' and once the crisis is over'),\n",
       " Row(Sentiment=' which would increase shortages and prices'),\n",
       " Row(Sentiment=' then another copy of \"\"Contagion\"\" and moved it to the top'),\n",
       " Row(Sentiment='000. @sto... https://t.co/Ug3LJcaHVP https://t.co/fB1q8lxfFu\"'),\n",
       " Row(Sentiment=' but some are calling on the network to cut wholesale prices. https://t.co/T2rcs18ML4 h/t LightReading\"'),\n",
       " Row(Sentiment=' lorry drivers'),\n",
       " Row(Sentiment=' pharmacy'),\n",
       " Row(Sentiment='\"\" grocery store CEO says https://t.co/FM5mJc7ftL\"'),\n",
       " Row(Sentiment=' or companies will have to figure out new ways to move things around.\"\" https://t.co/jlZXZyvn9O #coronavirus\"'),\n",
       " Row(Sentiment=\" Va. -- home of @realdonaldtrump's Virginia golf club.\"),\n",
       " Row(Sentiment=' many observers hold that normal consumer behavior will promptly reassert itself'),\n",
       " Row(Sentiment=' linked to at the top of the retweeted article'),\n",
       " Row(Sentiment=\" while there's some concern in #India over how low #shrimp prices could fall\"),\n",
       " Row(Sentiment='\"\" driving #Bitcoin prices down over 40 percent.'),\n",
       " Row(Sentiment=' as well as posting online! #COVID2019 #EssentialWorkers\"'),\n",
       " Row(Sentiment=' a new dawn of supermarket logistics is at hand. Old rivals are going to have to (...) kickstart a new system that involves working together to keep the country fed.\"\" reports @WiredUK'),\n",
       " Row(Sentiment=\" #Newsnight. If people can't afford rising food prices\"),\n",
       " Row(Sentiment=' while unemployment skyrockets and food pantries suffer. But solutions exist.\\x94'),\n",
       " Row(Sentiment=' just \"\"selfish pigs who only think about themselves\"\".'),\n",
       " Row(Sentiment=\" it's a little vial bottle with drops.\"),\n",
       " Row(Sentiment=' #wheat prices exploded'),\n",
       " Row(Sentiment=' the style of Covid-19 Mortality presentation reminds of the awful football results program on Saturday afternoons in the 1970s. In a house await... https://t.co/QW9tLG3a3j\"'),\n",
       " Row(Sentiment=' but\"'),\n",
       " Row(Sentiment=' please remember that if you are loading up on processed foods during this time'),\n",
       " Row(Sentiment=' but also to the interests of others.\"\" -Philippians 2:4'),\n",
       " Row(Sentiment=' teachers and grocery store attendants.'),\n",
       " Row(Sentiment=' more people will move out of their houses and crowd shops'),\n",
       " Row(Sentiment=' we are monitoring the impact of #coronavirus on #online #consumer behaviors.\"\"'),\n",
       " Row(Sentiment=' rolled up the window and bounced. She\\'s \"'),\n",
       " Row(Sentiment=' led by economist Jack Mintz'),\n",
       " Row(Sentiment=' what\\x92s being left behind shows us what people just won\\x92t eat'),\n",
       " Row(Sentiment=' and now food banks all across the country are facing a great demand.\"\" \\x97@RobinRoberts'),\n",
       " Row(Sentiment=' our cars'),\n",
       " Row(Sentiment=' but there is no need to stockpile at this point.\"\" #COVID19 #Coronavirus\"'),\n",
       " Row(Sentiment=' to the supermarket'),\n",
       " Row(Sentiment=' Phillips66 and former Continental CEO Harold Hamm.\"'),\n",
       " Row(Sentiment=' because almost everywhere other utilities'),\n",
       " Row(Sentiment=' cleaned'),\n",
       " Row(Sentiment=' a manager at the market tells me. '),\n",
       " Row(Sentiment=' which could have a lasting effect on how people consume Hollywood entertainment\"\" https://t.co/iNk3gvUrQK\"'),\n",
       " Row(Sentiment=' before assuring Australians the country has food security. https://t.co/UKKl1qzpkQ\"'),\n",
       " Row(Sentiment=' gloves bad'),\n",
       " Row(Sentiment=' delivery'),\n",
       " Row(Sentiment=' so do the scams associated with it.\"\"  they have listed 6 recommendations to follow.'),\n",
       " Row(Sentiment=' yet keeping all shops open  on original opening hours and not providing staff with proper PPE during a pandemic? Excellent display of employee loyalty. Not. #Disgrace\"'),\n",
       " Row(Sentiment=' while the #coronavirus DOES come from China and its communist regime IS re\"'),\n",
       " Row(Sentiment=' have you got any paracetamol in still?\"\"'),\n",
       " Row(Sentiment=' gloves'),\n",
       " Row(Sentiment=' recession'),\n",
       " Row(Sentiment=' avoid pubs'),\n",
       " Row(Sentiment=' \"\"You stay at home for Us\"\". '),\n",
       " Row(Sentiment=' Corps like @Boeing @united @trumphotels etc'),\n",
       " Row(Sentiment=' as businesses across the nation face disruptions amid the ongoing #lockdown'),\n",
       " Row(Sentiment=' spirits'),\n",
       " Row(Sentiment=' Spain'),\n",
       " Row(Sentiment='\"\" Beri said. \"\"For them'),\n",
       " Row(Sentiment=' stock food and supplies'),\n",
       " Row(Sentiment=' consume media and how they regard the brands they do business with.\"\" Find out how here: https://t.co/4hEUjUNJtY https://t.co/h4xtvzePI5\"'),\n",
       " Row(Sentiment=' the benchmark crude price for tar-sands producers'),\n",
       " Row(Sentiment=' water and toilet paper. Some consumers are also panic shopping for life insurance.\"\"'),\n",
       " Row(Sentiment=' levels of sustained'),\n",
       " Row(Sentiment=' here are some tips for protecting your devices and personal information.\"\" https://t.co/YwRLhoIfsM https://t.co/dxHBk3UCNu\"'),\n",
       " Row(Sentiment=\" he'll bash #Coronavirus up.\"),\n",
       " Row(Sentiment=' this could trigger the decision to purchase more product upfront.\\x94 '),\n",
       " Row(Sentiment=' our forecast of annual growth in dividends is down 28% in the US and 25% in the EU'),\n",
       " Row(Sentiment='000 yuan a tonne means nearly 70% of the Chinese producers will be under water'),\n",
       " Row(Sentiment=' and fairer.'),\n",
       " Row(Sentiment=' despite #coronavirus impact\"\"  Consumer sector businesses  say they will maintain previously planned investments \\x97 at 46% \\x97 and 8% saying they would increase planned investments https://t.co/gGh3HCy7jH\"'),\n",
       " Row(Sentiment=' a salesperson from @abt facetimed us and sold us new appliances. @salesfloor is now offering its tech stack to do this at scale for free. Great way to keep retail associates productive! https://t.co/v145JN3EGm\"'),\n",
       " Row(Sentiment=' and consumer discretionary spending will be WAY down. @JimCramer\"'),\n",
       " Row(Sentiment='\"\" says @Girotrak. \"\"Overall'),\n",
       " Row(Sentiment=' supermarket staff'),\n",
       " Row(Sentiment=' consumer capitalism and #coronavirus\"'),\n",
       " Row(Sentiment=' like'),\n",
       " Row(Sentiment='900 in business\"'),\n",
       " Row(Sentiment=' where marijuana is not legal'),\n",
       " Row(Sentiment=' whiskey &amp; #cosmetics to producing #medical supplies'),\n",
       " Row(Sentiment=' I\\'m happy to help you with it at a factory price. https://t.co/kaSBHka0V3\"'),\n",
       " Row(Sentiment=' including medicines.'),\n",
       " Row(Sentiment=' har de her harrr...\"\" as they frantically try to restock products w/out getting trampled by greedy assholes in the process. Not even a little funny. Fuckers.'),\n",
       " Row(Sentiment=' again'),\n",
       " Row(Sentiment=' but instead of brick'),\n",
       " Row(Sentiment=' terminals were shuttered'),\n",
       " Row(Sentiment=' no flour. At least In 1 supermarket'),\n",
       " Row(Sentiment=' which had to be thrown out'),\n",
       " Row(Sentiment=\" why aren't there similar laws against hoarding\"),\n",
       " Row(Sentiment='Extremely Negative'),\n",
       " Row(Sentiment=' not even grocery stores can keep up the facade of normalcy. As many health experts have feared'),\n",
       " Row(Sentiment=' visors'),\n",
       " Row(Sentiment=' 2020.\"\" #coronavirus'),\n",
       " Row(Sentiment=' it\\'s going to kill people.\"\"'),\n",
       " Row(Sentiment=' why were the parks so crowded?\"'),\n",
       " Row(Sentiment='#coronavirustip\"'),\n",
       " Row(Sentiment=' travel'),\n",
       " Row(Sentiment=' the economy is basically the stock market. He\\x92s obsessed with it'),\n",
       " Row(Sentiment=' wash your hands. https://t.co/GFQIk6Gr5x\"'),\n",
       " Row(Sentiment=' bev &amp; consumer packaged goods are exempted from the gathering &amp; curfew bans that are starting to take effect.\\x94 https://t.co/pxjldZ9oSh https://t.co/rNO2Va9NBp\"'),\n",
       " Row(Sentiment=' the fall in oil and stock prices has widened bond spreads and put pressure on the Naira.\"\"'),\n",
       " Row(Sentiment='900 selling accounts in its U.S. store for... \\'coronavirus-based #price gouging\\'\"\" https://t.co/yQPKnruHEl #consumer #consumerprotection #pricing #covid19 #pandemic #coronavirus https://t.co/kK4czdQvb9\"'),\n",
       " Row(Sentiment=' mama mboga'),\n",
       " Row(Sentiment=' state governors say they\\x92re now bidding against federal agencies and each other for scarce supplies'),\n",
       " Row(Sentiment=' then you\\x92re going to think that there\\x92s no food available. I\\x92ve seen a lot of that imagery when really that\\x92s not indicative of the actual availability of food.\"\" \\x96 @aubsn '),\n",
       " Row(Sentiment='\"\" Farnworth reassures British Columbians. State of emergency gives the province the power to ration supplies if needed'),\n",
       " Row(Sentiment=' many are striking and joining sick-outs to demand better conditions and pay. @thecut has more: https://t.co/6vjpRmUtZl https://t.co/nVWVKkUprP\"'),\n",
       " Row(Sentiment=' pay with cash and pack bags over the top of you. #coronavirusuk #Covid_19 https://t.co/JqVzmUC3Fy\"'),\n",
       " Row(Sentiment='\"\" said Independent Grocer Association president and CEO Josh Ross. #foodsupply #coronavirus #groceryshopping #consumers #grocers https://t.co/9C066pEdkN\"'),\n",
       " Row(Sentiment=' but for a limited time! For every merch sold'),\n",
       " Row(Sentiment=' we know best'),\n",
       " Row(Sentiment=' fast food workers'),\n",
       " Row(Sentiment=' but sad\"\" story: the average #onlineshopping conversion rate has'),\n",
       " Row(Sentiment=\" disinfectants &amp; other products needed to combat the spread of the #coronavirus are being exacerbated by the Trump admin's tariffs on Chinese imports\"),\n",
       " Row(Sentiment=' major retailers and experts say.\"\" https://t.co/0pNxcGVWvi\"'),\n",
       " Row(Sentiment=' our incredible store teams are exhausted and co\"'),\n",
       " Row(Sentiment=' investment bankers have been candid on investor calls and during health care conferences about the opportunity to raise drug prices.\"\" #coronavirus'),\n",
       " Row(Sentiment=' police officers'),\n",
       " Row(Sentiment='\"\" writes @BessLevin https://t.co/5w99jYd4hm\"'),\n",
       " Row(Sentiment=' utility techs'),\n",
       " Row(Sentiment=' New Jersey\\x92s biggest health-care network'),\n",
       " Row(Sentiment=' find them here: https://t.co/c6GYaMNdvM\"'),\n",
       " Row(Sentiment=' #Eurozone'),\n",
       " Row(Sentiment=' neither will milk.\"\"'),\n",
       " Row(Sentiment=' consumer behavior turns out to be remarkably unaccommodating to civilizing tendencies.\"\" -Benjamin Barber'),\n",
       " Row(Sentiment=' it proved to be the wors\\x85https://t.co/KpWd5TWoVu\"'),\n",
       " Row(Sentiment=' they have potatoes now! That\\'s a good meal right there!\"\" '),\n",
       " Row(Sentiment=' there\\'s plenty for everyone and please BACK OFF!! 2 metre rule ?\"\" #SocialDistancing #CoronaCrisis please don\\'t #panicbuy and there would be enough to go round\"'),\n",
       " Row(Sentiment=\" meaningful connection between a brand and a consumer. #InfluencerMarketing helps reinforce this bond because people really buy into people's stories\"),\n",
       " Row(Sentiment=\" you are an absolute moron. It's simple\"),\n",
       " Row(Sentiment=' but also by environmental'),\n",
       " Row(Sentiment=' but because it was the only thing in abundance. #COVID2019 #TotinosAreLifeNow\"'),\n",
       " Row(Sentiment=' the largest food retailer in #SouthAfrica with a R150.4 billion turnover &amp; a 30% market share'),\n",
       " Row(Sentiment=' supermarket workers'),\n",
       " Row(Sentiment=\" so doesn't understand all the fuss! Cognitive dissonance is real\"),\n",
       " Row(Sentiment=' even among the best of times.\\x94'),\n",
       " Row(Sentiment=' Rattles Producers\"\" https://t.co/wu24I1SsBI @SuccessfulFarm #chicken #stockpile #food #quarantine #Covid_19 #restaurants #supermarket #StayAtHomeOrder #foodprices #globaleconomy #virus #pandemic #diet\"'),\n",
       " Row(Sentiment=' Jordan'),\n",
       " Row(Sentiment=' the panic may wane even more.\"'),\n",
       " Row(Sentiment=' the system collapses...\"\"'),\n",
       " Row(Sentiment=' tubers'),\n",
       " Row(Sentiment=' #Trump is urging the cartel to do just that.\"\"'),\n",
       " Row(Sentiment=' be safe out there people!! #cribdelacurse #universe #transforming #coronavirus #corvid19 #besafeeveryone #sanitizer #mask #roland https://t.co/KRInBVhPK0\"'),\n",
       " Row(Sentiment=' #covid19'),\n",
       " Row(Sentiment=' or grocery store'),\n",
       " Row(Sentiment=' we need a period of less business activity and less consumer demand.\"\" https://t.co/gGRtpkFeaX\"'),\n",
       " Row(Sentiment=' but if stores had doubled the price of #toiletpaper early on'),\n",
       " Row(Sentiment=' the price of food and other supplies has doubled in Kabul markets over the past 24 hours\"\" #COVID2019 '),\n",
       " Row(Sentiment=' or give me death!\"\" speech.'),\n",
       " Row(Sentiment=' 1 USD pays for 5 (!) meals https://t.co/TIB7WXWRov\"'),\n",
       " Row(Sentiment=' overwhelming majority of customers were buying a few extra items because they and their families must now eat every meal at home.\"\" NickCohen #coronavirus @mrjamesob\"'),\n",
       " Row(Sentiment=' we are not seeing discretionary purchases taking place. We are seeing transactions which are focused on critical purchases. '),\n",
       " Row(Sentiment=' reduces operations in S.A. due to #Covid_19 \\x85\"'),\n",
       " Row(Sentiment=' those who have lost their jobs due to all the shutdowns\"'),\n",
       " Row(Sentiment=' but you still need to eat. @amandamull untangles the physical and moral hazards of ordering takeout or going to the grocery store during a pandemic.\"\" https://t.co/ke8c4iKD0j #coronavirus\"'),\n",
       " Row(Sentiment=' but as Keynes pointed out this would be socially unjust. The correct alternative would be higher taxes on wealth and incomes\"\" @RSkidelsky https://t.co/6cXSk11iul via @prospect_uk\"'),\n",
       " Row(Sentiment=' and @lloydblankfein arguing that stock prices are more important than ~1M American lives.\"'),\n",
       " Row(Sentiment=' racism'),\n",
       " Row(Sentiment='Social Distancing'),\n",
       " Row(Sentiment='\"\" w/earnings hit much harder in developed markets than EM: UBS Global Wealth Management\\'s Claudia Panseri\\xa0. \"\"We also expect dividends to be hurt as companies focus on balance sheet and cash preservation.\"\" https://t.co/ICxLRTQzIW\"'),\n",
       " Row(Sentiment=' he used a voucher to get a discount... Absolutely disgusting! '),\n",
       " Row(Sentiment=' but orders from food-service operators fell.\"\" https://t.co/I96mBOfdZ8 @BurnabyNOW_News\"'),\n",
       " Row(Sentiment=' especially #nurses #Doctors as I wore a #facemask to the grocery store and got anxiety just for wearing it for 1 hour.?'),\n",
       " Row(Sentiment=' than with @realDonaldTrump under the #CoronaVirus threat.'),\n",
       " Row(Sentiment=' bus drivers'),\n",
       " Row(Sentiment=' also vowing to roll back all Trump administration regulations and executive orders that harm the environment and \"'),\n",
       " Row(Sentiment=' please take pics or video and make them famous. Let\\'s see how many use them after the crisis has passed. #pricegougers #pricegouging #pricerises #CoronaCrisis #CoronavirusPandemic #Covid_19 https://t.co/IukgDamLFO\"'),\n",
       " Row(Sentiment=' we expect the cannabis companies who can weather the storm today to continue on their rapid growth trajectories once the pandemic is under control.\"\" https://t.co/fqzZ1rynYT https://t.co/kqvHRuRbzJ\"'),\n",
       " Row(Sentiment=' I drove out to the farm I\\x92ve supported through a CSA program the past few years. I wanted to stock the fridge as calls for \\x93social distancing\\x94 were ramping up due to COVID-19...\"\"'),\n",
       " Row(Sentiment=' Devastating\\x92\"\" https://t.co/HjVwbTAd1P @ClimateNexus @nytimes #oilcompanies #prices #coronavirus #oilandgas #budgets #gasoline #diesel #jetfuel #pipeline #crudeoil #pipeline #storagetanks #frackingcrews https://t.co/FkIl0IWOyF\"'),\n",
       " Row(Sentiment=' stocks will rebound but fr 20%-30% below current prices. Like 2008...investors...slow to return...stocks may well underperform as high P/E ratios...normalize'),\n",
       " Row(Sentiment=' if people get exposed to the virus in supermarket queues today! So please keep distance ?'),\n",
       " Row(Sentiment=' however you\\'re putting yourself at risk just by ordering outside food.\"'),\n",
       " Row(Sentiment='@BobbyHeehaw'),\n",
       " Row(Sentiment=' so would be any other consumer goods company that produces cleaning and sanitary products which was earlier a \"\"kind of\"\" commodity market. #coronavirus\"'),\n",
       " Row(Sentiment=' upcoming stress from collapsing demand will reflect economics of \"\"sudden stops\"\"'),\n",
       " Row(Sentiment=' as COVID-19 forces food assistance organizations to manage dwindling inventories'),\n",
       " Row(Sentiment='Neutral'),\n",
       " Row(Sentiment='Positive'),\n",
       " Row(Sentiment=' milk powder gone\"\"'),\n",
       " Row(Sentiment=' but they\\x92re already reporting changes in their income'),\n",
       " Row(Sentiment=' so supermarkets keep operating'),\n",
       " Row(Sentiment=' you must be quarantined at a designated center. #CoronaVirus\"'),\n",
       " Row(Sentiment=' while transactions are down\\xa0-15%\\xa0from last week due largely to abandoned shopping carts as result of fully booked delivery services.\"\" - @MarTechAdvisor '),\n",
       " Row(Sentiment=' and you\\'re not even an American!\"\"\"'),\n",
       " Row(Sentiment=' it\\'s the beginning of the end for #fracking\"\"'),\n",
       " Row(Sentiment='said DCP Surat'),\n",
       " Row(Sentiment=' and consider if you really do need a delivery'),\n",
       " Row(Sentiment=' it is very respectful to me as a consumer. #MaddensMethods\"'),\n",
       " Row(Sentiment=' Ashley Young shares Covid-19 advice - https://t.co/7RojE92CdG https://t.co/8xPGp9fbag\"'),\n",
       " Row(Sentiment=' #ImpactInvesting'),\n",
       " Row(Sentiment=' listen to the doctors and even then'),\n",
       " Row(Sentiment=' need urgent help - please keep price stable while peoples are staying at home to confront #coronavirus challenge. https://t.co/7owfqSpEmw\"'),\n",
       " Row(Sentiment=' hotels...)'),\n",
       " Row(Sentiment='\"\" by Gary Schnitkey.  https://t.co/gu6B4XpqP4'),\n",
       " Row(Sentiment=' consumer spending in grocery stores surged dramatically'),\n",
       " Row(Sentiment=' remember: Rupert Murdoch produces a wide range...\"\"'),\n",
       " Row(Sentiment=' etc #coronavirus https://t.co/lqItAHT4vD\"'),\n",
       " Row(Sentiment=' you should advertise. When times are bad you MUST advertise\"\".'),\n",
       " Row(Sentiment=' physical spaces'),\n",
       " Row(Sentiment=' sir.\"\"'),\n",
       " Row(Sentiment=' \\'I\\x92m pretty sure I have it; I\\x92m going to the doctor now. I just have to stop at Whole Foods first.\\'\"\" #covid19 #coronavirus https://t.co/LWq4QokAbn\"'),\n",
       " Row(Sentiment=' [food bank] demand has quintupled this season. Almost half of Rapaport\\x92s customers are new'),\n",
       " Row(Sentiment=' \"\"Who needs BlackFriday anyway with steep discounts to cream it when you got COVID?\"\" #GreedyBastards https://t.co/cz7v14RzzA\"'),\n",
       " Row(Sentiment=' even now'),\n",
       " Row(Sentiment=' and government impostor scams are all on the rise.'),\n",
       " Row(Sentiment=' pangolin sales falter with Covid-19\"\"'),\n",
       " Row(Sentiment=' major retailers and experts say'),\n",
       " Row(Sentiment=' though also quietly sad.\"\" https://t.co/DXwKJt0Q5G\"'),\n",
       " Row(Sentiment=' the man in charge of coronavirus-proofing Walmart stores in Canada. Though dressed like a store clerk'),\n",
       " Row(Sentiment=' N. Y. - April 10'),\n",
       " Row(Sentiment=' with even #ecommerce operations shutting down due to #coronavirus concerns'),\n",
       " Row(Sentiment=' bank managers. The list is endless.'),\n",
       " Row(Sentiment=' those retail business without the right treatment will not survive.\"\"'),\n",
       " Row(Sentiment=' veterinary medicines could affect agricultural production. Closures of restaurants and less frequent grocery shopping [will likely] diminish demand for fresh produce and fisheries products'),\n",
       " Row(Sentiment=' now that the economy dumped and supermarkets/online retailers can\\'t keep up with demand. Fruit/veg plants/seeds sales are through the roof as everyone plans to grow their own food. #coronavirus #COVID2019 https://t.co/rZXfpl5i0g\"'),\n",
       " Row(Sentiment=' a reminder that we\\'re seeing signs that the opposite is actually happening. https://t.co/9Dt6EQ6FU2\"'),\n",
       " Row(Sentiment=' April 9th'),\n",
       " Row(Sentiment='\"\" Ford says of the gouging. \\x93We are coming after you.\"\"\"'),\n",
       " Row(Sentiment=' companies\\x92 strategies will need to focus on fortifying their web presence and'),\n",
       " Row(Sentiment=' creating more trouble for Calgary landlords already struggling with huge vacancy rates.\"\" https://t.co/Ilq1wqn0bF #CRE @westerninvestor\"'),\n",
       " Row(Sentiment='Negative'),\n",
       " Row(Sentiment=' why aren\\'t they listening to the stay at home advice\"\" '),\n",
       " Row(Sentiment=' even if it means giving up on their own privacy in the process.\"\" https://t.co/24YkJ5HZMd\"'),\n",
       " Row(Sentiment=' volunteers abandoning charities to practice social distancing'),\n",
       " Row(Sentiment=' Vaccines and Treatments\"\" https://t.co/upvPXU8IEa\"'),\n",
       " Row(Sentiment=' 2020 - US &amp; Canadian Border Closure &amp; Economic Impact of Oil Prices\"\" on @Spreaker #borderclosure #brampton #caledon #coronavirus #covid_19 #mississauga #oilprices #peelregion #sauga960am #us_canada https://t.co/0anwAGDI1G\"'),\n",
       " Row(Sentiment='\"\" a virtual food drive with @ntfb. \"\"With thousands of people facing furloughs and layoffs'),\n",
       " Row(Sentiment=' and fairer. They are immune to oil prices'),\n",
       " Row(Sentiment=' no respect for social distancing or the law. Wales is closed. You are endangering local residents. #StayHomeSaveLives\"'),\n",
       " Row(Sentiment=' the UK property market is very robust'),\n",
       " Row(Sentiment=' Woodstock sanctuary'),\n",
       " Row(Sentiment=' Nenshi says: public health impact of COVID-19'),\n",
       " Row(Sentiment=' subsidy is an elitist thing because it is the elites that benefit. They are the ones that have SUVs'),\n",
       " Row(Sentiment=' of course'),\n",
       " Row(Sentiment=' managing director at Mizuho Securities'),\n",
       " Row(Sentiment=' in this case it appears to have strengthened them.\"\"'),\n",
       " Row(Sentiment=' you may have to pay higher fees ?'),\n",
       " Row(Sentiment=' N. Y. - March 20'),\n",
       " Row(Sentiment=' the world will be changed. Crisis-buying patterns will spark permanent changes in consumer behavior. The work you do now will lay the foundation for ongoing success on the other side. \"\"'),\n",
       " Row(Sentiment=' there is enough food.\"\" '),\n",
       " Row(Sentiment=' buy and hoard masks that are most appropriately used and necessary for the front-line health care workers who do need it for the clear and present danger\"\" they face.'),\n",
       " Row(Sentiment='Bread'),\n",
       " Row(Sentiment=' they\\x92re also buying their fair share of alcohol. Sales at liquor stores are up \\x96 amid the COVID-19 pandemic.\"\"'),\n",
       " Row(Sentiment=' handing you food'),\n",
       " Row(Sentiment=' so the de\"'),\n",
       " Row(Sentiment=' our prices are now...\"\" notices. After the \"\"welcome back\"\" specials'),\n",
       " Row(Sentiment=' Pick-Up'),\n",
       " Row(Sentiment=' online retailers are leveraging the cost-effective value of #AffiliateMarketing ever more to help reach today\\x92s consumer and fuel online revenue growth.\"\" https://t.co/zKuKIRDCjf @LinkConnector https://t.co/UMXi0pc3Lf\"'),\n",
       " Row(Sentiment=' and not through choice. so please self isolate in our place'),\n",
       " Row(Sentiment=' so I am happy we are able to help out in this way'),\n",
       " Row(Sentiment=' scammers are preying on your fears. Canadians are being warned to be careful of the scams that are circulating. Read more here: https://t.co/kEynPu36XZ\"'),\n",
       " Row(Sentiment=' $AZO'),\n",
       " Row(Sentiment=' a consumer-driven global recession could be the next threat posed by the pandemic'),\n",
       " Row(Sentiment=' which will ultimately drive down demand'),\n",
       " Row(Sentiment=' you know'),\n",
       " Row(Sentiment=' where about half of all cannabis consumptions happens anyway.\"\" @forbes @melanie_warner'),\n",
       " Row(Sentiment=' hang up! https://t.co/Y6WDfvweoW https://t.co/sXMyuMgVa7\"'),\n",
       " Row(Sentiment=' along with a comprehensive benefits package. '),\n",
       " Row(Sentiment=' a new at-home interactive food experience in Los Angeles that has been designed specifically for this current COVID-19 quarantine life. \"\" Strange times demand strange pizza. Sign me up!  https://t.co/UjhdRLTYaK\"'),\n",
       " Row(Sentiment=' like after 9/11. That\\'s ok because change is constant....and sometimes good. #covidchange #postcovidworld #newnormal The consumer after COVID-19 https://t.co/k7XMRYovmk via @marketingdive\"'),\n",
       " Row(Sentiment=' \"\"1 lakh beds already prepared for COVID-19 testing.\"\" and \"\"India has enough medicine and food stock\"\"'),\n",
       " Row(Sentiment=' after panic-buying amid the #coronavirus outbreak'),\n",
       " Row(Sentiment=' with an emphasis on the Chinese administration'),\n",
       " Row(Sentiment=' be #healthy &amp; #immune'),\n",
       " Row(Sentiment=' counterintuitively falling as the #coronavirus\\x92 economic hit has become horribly apparent.  A rebound is now afoot. Get your market update from DavidCottleFX here: \\x85 https://t.co/1xgeIF2vrq\"\"\"'),\n",
       " Row(Sentiment=' while food service in Italy is virtually shut down'),\n",
       " Row(Sentiment='000 on Sunday.\"\" https://t.co/uVO77Wte9v #COVID19 #Amazon\"'),\n",
       " Row(Sentiment='\\x94 the government plan said. The plan warned of \\x93significant shortages for government'),\n",
       " Row(Sentiment=' firefighters etc.... ?'),\n",
       " Row(Sentiment='Extremely Positive'),\n",
       " Row(Sentiment=' etc.? #COVID2019\"'),\n",
       " Row(Sentiment=' on a per capita basis'),\n",
       " Row(Sentiment=' Stay Home-Be Safe\"\"'),\n",
       " Row(Sentiment=' openings due to COVID-19\"\" https://t.co/DDoUT6Qdpf #Supermarketnews\"'),\n",
       " Row(Sentiment=' in a survey of 1068 Americans'),\n",
       " Row(Sentiment=' eat more meals at home and stockpile essentials'),\n",
       " Row(Sentiment=' such as shops'),\n",
       " Row(Sentiment='000 employees in the U.S. to meet the surge in demand from online shopping amid the #coronavirus outbreak'),\n",
       " Row(Sentiment=' at prices that don\\x92t already reflect the possibility of a bailout.\"\" https://t.co/2FDfj5qV6T\"'),\n",
       " Row(Sentiment=\" but I'm on one today and every day hereafter when it comes to anything even tangentially related to #COVID19/#Coronavirus. If I see you selling disinfecting wipes/sprays\"),\n",
       " Row(Sentiment='apple sauce and gravy.'),\n",
       " Row(Sentiment='000 warehouse and delivery workers across the country to handle the online shopping surge caused by the COVID-19 outbreak.\"\" https://t.co/YIVTNWiCTA\"'),\n",
       " Row(Sentiment=' 2nd wave'),\n",
       " Row(Sentiment=' fresh'),\n",
       " Row(Sentiment=' just want to say thank you. Thank you to everyone specially the driver! ? #Covid_19\"'),\n",
       " Row(Sentiment=' and what does that mean for broader consumer behavior?\"\"'),\n",
       " Row(Sentiment=' keeping them open is important.\"\"'),\n",
       " Row(Sentiment='\"\" @Citi strategists say. However the speed of this decline is unprecedented &amp; may not reverse until #coronavirus peaks in US. https://t.co/gfatOf0sMr https://t.co/LXudOMMlXA\"'),\n",
       " Row(Sentiment='grocery store workers'),\n",
       " Row(Sentiment=' masks'),\n",
       " Row(Sentiment=' I\\'m currently more concerned about the people panic buying and the rest of us being unable to access food than I am about catching the actual virus.\"'),\n",
       " Row(Sentiment=' Mohamed Kaahin. https://t.co/pCQa3fK9ru\"'),\n",
       " Row(Sentiment=' come gather round friends'),\n",
       " Row(Sentiment=' #China stockpiled around 2.4 billion pieces of protective equipment'),\n",
       " Row(Sentiment=' #QuaratineAndChill'),\n",
       " Row(Sentiment=' with consumers trying new models'),\n",
       " Row(Sentiment=\" but masks aren't available to them\"),\n",
       " Row(Sentiment='\"\" Birx said. \"\"This is the moment to not be going to the grocery store'),\n",
       " Row(Sentiment=' what will we do to each other when we are short of food?\"\" - Coban Coban Burma (FB) #coronavirus #Quarantine\"'),\n",
       " Row(Sentiment=' experts in the food supply chain say the system is built to endure'),\n",
       " Row(Sentiment=' falling 2.2% from the day before'),\n",
       " Row(Sentiment=' co-owner says\"\"'),\n",
       " Row(Sentiment=' then there will be no such expected recovery. consumer consumption may spike'),\n",
       " Row(Sentiment=' @Sendiks and @AWGCorporate! #grocery #supermarket #covid19 #coronavirus #grocers #foodretail #retail https://t.co/FglsnPoj4k\"'),\n",
       " Row(Sentiment=' we\\'ve sold enough #toiletpaper for every American to have their own roll\"\":  #coronavirus #stayhome #panicbuying #hoarding'),\n",
       " Row(Sentiment=' pills'),\n",
       " Row(Sentiment=' as of late March'),\n",
       " Row(Sentiment=' they are saying police didn\\'t allow us to open.  They said \"\"We will give u particular time to open\"\"  just think of Rush of people at that time..(1/\"'),\n",
       " Row(Sentiment=' medics cannot do miracles.  Going to supermarket - coughing on the handle of a trolley'),\n",
       " Row(Sentiment=' not going to the pharmacy'),\n",
       " Row(Sentiment=' major retailers and experts say. https://t.co/ThpOJ1znVd https://t.co/ZMlp4WDSmN\"'),\n",
       " Row(Sentiment=' refuses to close despite government orders in the wake of coronavirus: https://t.co/3l9ITqzzEn #Gamestop #coronavirus https://t.co/kAHJ7ZwaWc\"'),\n",
       " Row(Sentiment='can I stock her up before lockdown comes then no food available'),\n",
       " Row(Sentiment=' ecological collapse'),\n",
       " Row(Sentiment=' vicious and uncaring\"\" way.\"'),\n",
       " Row(Sentiment=' expands its home delivery and creates an extra 3500 jobs.\"\"'),\n",
       " Row(Sentiment=' No!'),\n",
       " Row(Sentiment=' appliances'),\n",
       " Row(Sentiment=' similar to what CCAs are offering in CA https://t.co/OlHkyldwqH @ebce_ceo\"'),\n",
       " Row(Sentiment=' pasta'),\n",
       " Row(Sentiment='\"\" said an FBI agent in the Newark office of coronavirus-related scams. https://t.co/qitYO7rFr9\"'),\n",
       " Row(Sentiment=' to bars and restaurants'),\n",
       " Row(Sentiment=' while workers in New York and Chicago say that Amazon isn\\x92t taking enough precautions as orders mount.\"\" ?? remember virus can survive 24 hours on cardboard. #COVID19 https://t.co/CYwrFW3FPE\"'),\n",
       " Row(Sentiment=' the week seems to go on forever'),\n",
       " Row(Sentiment=' kindness..\\x94'),\n",
       " Row(Sentiment=' and tried to sell me their CD. This is PEAK WTF level for me.'),\n",
       " Row(Sentiment=' Teachers'),\n",
       " Row(Sentiment='000 people who are going to die because you only sent 400 ventilators.\"\" https://t.co/oRJYqAZEa2\"'),\n",
       " Row(Sentiment=' please refrain from entering the store\"\"'),\n",
       " Row(Sentiment=' rising real estate prices in urban clusters &amp; visa restrictions in a de-globalising world may all make remote collaboration more valuable than ever'),\n",
       " Row(Sentiment=' including because of \"\"massive suicides'),\n",
       " Row(Sentiment=' a Coronavirus Companion\"\"'),\n",
       " Row(Sentiment='\"\" says @RaminToloui'),\n",
       " Row(Sentiment=' 7th Edition\"\" '),\n",
       " Row(Sentiment=' its good for our customers as we can deliver within hours '),\n",
       " Row(Sentiment=' we think that this could negatively impact them and that they could become a whole new population of people living in poverty'),\n",
       " Row(Sentiment=' appreciate that President Conte puts his face;  use time at home to contemplate and reflect on the really important things!\"\" F 37'),\n",
       " Row(Sentiment=' e-commerce and away from brick and mortar'),\n",
       " Row(Sentiment=' &amp; others who are literally out there.'),\n",
       " Row(Sentiment=' consumed more'),\n",
       " Row(Sentiment=' everybody else had clothes on\"\" (@metalli445 and @PattyeLJ'),\n",
       " Row(Sentiment=' Utilities etc\"'),\n",
       " Row(Sentiment=' some 6 million barrels per day of \"\"homeless crude\"\" might literally have nowhere to go.\"\" Repeat: ENGINEERED ECONOMIC CRASH.'),\n",
       " Row(Sentiment=' billdesk'),\n",
       " Row(Sentiment=' custodial staff'),\n",
       " Row(Sentiment=' pushing my cart down a row of refrigerators in the dairy section'),\n",
       " Row(Sentiment=' grocery store employees'),\n",
       " Row(Sentiment=' Costco and Target fell for the first time in weeks as coronavirus stockpiling behavior shifts\"\" #coronavirus #COVID19'),\n",
       " Row(Sentiment=' dir. of L.A. County Dept of Public Health. https://t.co/lFFIgWuTYk\"'),\n",
       " Row(Sentiment=' cold beaches and toilet paper: COVID-19 and sudden'),\n",
       " Row(Sentiment=' work from home'),\n",
       " Row(Sentiment=' one thing is clear: stockpiling is not an option for the economically vulnerable.\"\" @amyvhaddad  #COVID19 #COVIDaus #stockpiling https://t.co/ZpKRzNty0A https://t.co/LfAaeA2PDB\"'),\n",
       " Row(Sentiment='\"\" writes @marcscribner.'),\n",
       " Row(Sentiment=' https://t.co/bYJirZ1OZ7 #intermarkgroup #psychologymarketing #covid19\"'),\n",
       " Row(Sentiment=' 13'),\n",
       " Row(Sentiment=' acts of #kindness during the #coronavirus #pandemic are providing #uplifting moments of #joy in a #UnitedStates beset by #anxiety.\"\" https://t.co/RefLNn8cL0\"'),\n",
       " Row(Sentiment=' it was an administrative error\"\" Pure BS!\"'),\n",
       " Row(Sentiment=' San Pedro City'),\n",
       " Row(Sentiment=' the gas store workers'),\n",
       " Row(Sentiment=' keeping specialists away from infected patients when applicable.\"\" https://t.co/Aysl3AR06o InteliChart is offering telehealth services at no cost through July 31. https://t.co/tcd4xn86iQ #telehealth #COVID19 #coronavirus https://t.co/nIJSP4PLcu\"'),\n",
       " Row(Sentiment=' people that I talk to now have a completely different opinion on what things were two weeks ago.\"\" https://t.co/F29DCCpWgm\"'),\n",
       " Row(Sentiment=' Hand Sanitizer'),\n",
       " Row(Sentiment=' business relief'),\n",
       " Row(Sentiment=' w/ HSD EPS growth. Good for $MO'),\n",
       " Row(Sentiment=' I\\x92m sure you have been touched by the videos of people applauding #healthworkers from their balconies'),\n",
       " Row(Sentiment=' humans and other animals can have an increased drive toward hoarding behaviors.  However'),\n",
       " Row(Sentiment='social distancing'),\n",
       " Row(Sentiment=' @PtRightsAdvoc via @LasVegasSun '),\n",
       " Row(Sentiment=' short supplies'),\n",
       " Row(Sentiment=' but in the supermarket this morning'),\n",
       " Row(Sentiment=\" you'll be able to offer the right solutions.\"),\n",
       " Row(Sentiment=' hunger relief organizations'),\n",
       " Row(Sentiment=' hereby'),\n",
       " Row(Sentiment=\" it's never gonna happen\"),\n",
       " Row(Sentiment=' but there\\x92s no need to hoard products or panic about food during this coronavirus (COVID-19) pandemic.\"\" https://t.co/CHgEIYRyfh @AgWebEditor #COVID19\"'),\n",
       " Row(Sentiment=' in particular'),\n",
       " Row(Sentiment=' you will find flies\"\". In this case its parasites - AKA #scammers https://t.co/dOx4Feq46P #scam #scamdemic #Phishing #CyberAware #securityawareness #cybersecurity #coronavirus #pandemic\"'),\n",
       " Row(Sentiment=' Agencies Say\"\"; \"\"COVID-19 Pandemic'),\n",
       " Row(Sentiment=' re-engage your customers in meaningful ways rather than pushing products.\"'),\n",
       " Row(Sentiment=' not leave it to grocery store \"'),\n",
       " Row(Sentiment=' for elderly and vulnerable customers.\"\" #coronavirus #sainsburys https://t.co/UOQqrxTiPo\"'),\n",
       " Row(Sentiment=' @KatrinaAClarke reports #HamOnt #COVID19'),\n",
       " Row(Sentiment=' particularly for emergency pantry items and health supplies\"\"'),\n",
       " Row(Sentiment=' COVID-19 related disruptions such as travel and movement restrictions have caused artisanal gold supply chains to collapse'),\n",
       " Row(Sentiment=' the Morning Consult Index of Consumer Sentiment (ICS) is at 89.41'),\n",
       " Row(Sentiment=' switch places with me. #COVID19 #coronavirus #StayHome\"'),\n",
       " Row(Sentiment=' as the restaurant and food service demand crumbled rapidly due to COVID-19. ( Ben Butler'),\n",
       " Row(Sentiment=' between each #tenant and their respective #landlord. But w\\x85https://t.co/M9irxZEghg https://t.co/idnyot1thv\"'),\n",
       " Row(Sentiment=' upset about the inconvenience of the new rules or angry about a missing product or a long wait to get in.\"\"'),\n",
       " Row(Sentiment=' food prices'),\n",
       " Row(Sentiment=' for the purposes of collecting unemployment insurance'),\n",
       " Row(Sentiment=\" it's important to note that @auspost Post is still operational... you'll still be able to send and receive domestic parcels and mail\"),\n",
       " Row(Sentiment=' not Church.'),\n",
       " Row(Sentiment=' financial markets were in an inherently unstable condition. Years of.. https://t.co/rofXLLBbwL\"'),\n",
       " Row(Sentiment=' April 7'),\n",
       " Row(Sentiment=' including isopropyl alcohol'),\n",
       " Row(Sentiment='\"\" @PNCBank\\'s chief economist @GusFaucherPNC')]"
      ]
     },
     "execution_count": 12,
     "metadata": {},
     "output_type": "execute_result"
    }
   ],
   "source": [
    "df.select('Sentiment').distinct().collect()"
   ]
  },
  {
   "cell_type": "code",
   "execution_count": 13,
   "metadata": {},
   "outputs": [],
   "source": [
    "#apply udf on df column\n",
    "df=df.withColumn(\"target_Sentiment\", stringNumber(\"Sentiment\"))"
   ]
  },
  {
   "cell_type": "code",
   "execution_count": 14,
   "metadata": {},
   "outputs": [
    {
     "name": "stdout",
     "output_type": "stream",
     "text": [
      "+--------+----------+--------------------+----------+--------------------+------------------+----------------+\n",
      "|UserName|ScreenName|            Location|   TweetAt|       OriginalTweet|         Sentiment|target_Sentiment|\n",
      "+--------+----------+--------------------+----------+--------------------+------------------+----------------+\n",
      "|    3799|     48751|              London|16-03-2020|@MeNyrbie @Phil_G...|           Neutral|         Neutral|\n",
      "|    3800|     48752|                  UK|16-03-2020|advice Talk to yo...|          Positive|        Positive|\n",
      "|    3801|     48753|           Vagabonds|16-03-2020|Coronavirus Austr...|          Positive|        Positive|\n",
      "|    3804|     48756|ÜT: 36.319708,-82...|16-03-2020|As news of the re...|          Positive|        Positive|\n",
      "|    3805|     48757|35.926541,-78.753267|16-03-2020|\"Cashier at groce...|          Positive|        Positive|\n",
      "|    3807|     48759|     Atlanta, GA USA|16-03-2020|Due to COVID-19 o...|          Positive|        Positive|\n",
      "|    3808|     48760|    BHAVNAGAR,GUJRAT|16-03-2020|For corona preven...|          Negative|        Negative|\n",
      "|    3809|     48761|      Makati, Manila|16-03-2020|All month there h...|           Neutral|         Neutral|\n",
      "|    3811|     48763|          Horningsea|16-03-2020|#horningsea is a ...|Extremely Positive|        Positive|\n",
      "|    3818|     48770|          Denver, CO|16-03-2020|For those who are...|          Positive|        Positive|\n",
      "|    3819|     48771|southampton soxx xxx|16-03-2020|with 100  nations...|Extremely Negative|        Negative|\n",
      "|    3823|     48775|    Downstage centre|16-03-2020|@10DowningStreet ...|          Negative|        Negative|\n",
      "|    3824|     48776|              London|16-03-2020|UK #consumer poll...|Extremely Positive|        Positive|\n",
      "|    3825|     48777|      Ketchum, Idaho|16-03-2020|In preparation fo...|          Negative|        Negative|\n",
      "|    3826|     48778| Everywhere You Are!|16-03-2020|This morning I te...|Extremely Negative|        Negative|\n",
      "|    3834|     48786|             Sverige|16-03-2020|Went to the super...|           Neutral|         Neutral|\n",
      "|    3836|     48788|              Canada|16-03-2020|Worried about the...|          Positive|        Positive|\n",
      "|    3838|     48790|       United States|16-03-2020|Now I can go to t...|          Positive|        Positive|\n",
      "|    3841|     48793|             Houston|16-03-2020|CHECK VIDEO ?? ht...|Extremely Negative|        Negative|\n",
      "|    3842|     48794|Vancouver, Britis...|16-03-2020|Breaking Story: O...|           Neutral|         Neutral|\n",
      "+--------+----------+--------------------+----------+--------------------+------------------+----------------+\n",
      "only showing top 20 rows\n",
      "\n"
     ]
    }
   ],
   "source": [
    "df.show()"
   ]
  },
  {
   "cell_type": "code",
   "execution_count": 15,
   "metadata": {},
   "outputs": [],
   "source": [
    "drop_list =[\"UserName\",\"ScreenName\",\"Location\",\"TweetAt\",\"Sentiment\"]\n",
    "data = df.select([column for column in df.columns if column not in drop_list])"
   ]
  },
  {
   "cell_type": "code",
   "execution_count": 16,
   "metadata": {},
   "outputs": [
    {
     "name": "stdout",
     "output_type": "stream",
     "text": [
      "+--------------------+----------------+\n",
      "|       OriginalTweet|target_Sentiment|\n",
      "+--------------------+----------------+\n",
      "|@MeNyrbie @Phil_G...|         Neutral|\n",
      "|advice Talk to yo...|        Positive|\n",
      "|Coronavirus Austr...|        Positive|\n",
      "|As news of the re...|        Positive|\n",
      "|\"Cashier at groce...|        Positive|\n",
      "|Due to COVID-19 o...|        Positive|\n",
      "|For corona preven...|        Negative|\n",
      "|All month there h...|         Neutral|\n",
      "|#horningsea is a ...|        Positive|\n",
      "|For those who are...|        Positive|\n",
      "|with 100  nations...|        Negative|\n",
      "|@10DowningStreet ...|        Negative|\n",
      "|UK #consumer poll...|        Positive|\n",
      "|In preparation fo...|        Negative|\n",
      "|This morning I te...|        Negative|\n",
      "|Went to the super...|         Neutral|\n",
      "|Worried about the...|        Positive|\n",
      "|Now I can go to t...|        Positive|\n",
      "|CHECK VIDEO ?? ht...|        Negative|\n",
      "|Breaking Story: O...|         Neutral|\n",
      "+--------------------+----------------+\n",
      "only showing top 20 rows\n",
      "\n"
     ]
    }
   ],
   "source": [
    "data.show()"
   ]
  },
  {
   "cell_type": "code",
   "execution_count": 17,
   "metadata": {},
   "outputs": [
    {
     "name": "stdout",
     "output_type": "stream",
     "text": [
      "+-------+--------------------+----------------+\n",
      "|summary|       OriginalTweet|target_Sentiment|\n",
      "+-------+--------------------+----------------+\n",
      "|  count|               22358|           22358|\n",
      "|   mean|                null|            null|\n",
      "| stddev|                null|            null|\n",
      "|    min|      Coronavirus...|        Negative|\n",
      "|    max|Ça se peut?  Why ...|        Positive|\n",
      "+-------+--------------------+----------------+\n",
      "\n"
     ]
    }
   ],
   "source": [
    "data.describe().show()"
   ]
  },
  {
   "cell_type": "code",
   "execution_count": 18,
   "metadata": {},
   "outputs": [
    {
     "name": "stdout",
     "output_type": "stream",
     "text": [
      "root\n",
      " |-- OriginalTweet: string (nullable = true)\n",
      " |-- target_Sentiment: string (nullable = true)\n",
      "\n"
     ]
    }
   ],
   "source": [
    "data.printSchema()"
   ]
  },
  {
   "cell_type": "code",
   "execution_count": 19,
   "metadata": {},
   "outputs": [
    {
     "name": "stdout",
     "output_type": "stream",
     "text": [
      "+-------------+----------------+\n",
      "|OriginalTweet|target_Sentiment|\n",
      "+-------------+----------------+\n",
      "|            0|               0|\n",
      "+-------------+----------------+\n",
      "\n"
     ]
    }
   ],
   "source": [
    "data.select([count(when(isnan(c) | col(c).isNull(), c)).alias(c) for c in data.columns]).show()"
   ]
  },
  {
   "cell_type": "code",
   "execution_count": 20,
   "metadata": {},
   "outputs": [],
   "source": [
    "tokenizer=RegexTokenizer(inputCol=\"OriginalTweet\", outputCol=\"words\", pattern=\"\\\\W\")\n",
    "stopremove=StopWordsRemover(inputCol=\"words\", outputCol=\"stop_words\")\n",
    "hashtf = HashingTF(numFeatures=2**16, inputCol=\"stop_words\", outputCol='tf')\n",
    "idf=IDF(inputCol=\"tf\", outputCol=\"idf_words\")\n",
    "\n",
    "label_stringId = StringIndexer(inputCol = \"target_Sentiment\", outputCol = \"label\")\n",
    "\n"
   ]
  },
  {
   "cell_type": "code",
   "execution_count": 21,
   "metadata": {},
   "outputs": [],
   "source": [
    "clean_up = VectorAssembler(inputCols=['idf_words'], outputCol= 'features')"
   ]
  },
  {
   "cell_type": "code",
   "execution_count": 22,
   "metadata": {},
   "outputs": [],
   "source": [
    "pipeline = Pipeline(stages=[tokenizer, stopremove, hashtf, idf, label_stringId, clean_up])"
   ]
  },
  {
   "cell_type": "code",
   "execution_count": 23,
   "metadata": {},
   "outputs": [],
   "source": [
    "cleaner = pipeline.fit(data)"
   ]
  },
  {
   "cell_type": "code",
   "execution_count": 24,
   "metadata": {},
   "outputs": [],
   "source": [
    "clean_data = cleaner.transform(data)"
   ]
  },
  {
   "cell_type": "code",
   "execution_count": 25,
   "metadata": {},
   "outputs": [
    {
     "name": "stdout",
     "output_type": "stream",
     "text": [
      "+--------------------+----------------+--------------------+--------------------+--------------------+--------------------+-----+--------------------+\n",
      "|       OriginalTweet|target_Sentiment|               words|          stop_words|                  tf|           idf_words|label|            features|\n",
      "+--------------------+----------------+--------------------+--------------------+--------------------+--------------------+-----+--------------------+\n",
      "|@MeNyrbie @Phil_G...|         Neutral|[menyrbie, phil_g...|[menyrbie, phil_g...|(65536,[8455,1542...|(65536,[8455,1542...|  2.0|(65536,[8455,1542...|\n",
      "|advice Talk to yo...|        Positive|[advice, talk, to...|[advice, talk, ne...|(65536,[3564,3943...|(65536,[3564,3943...|  0.0|(65536,[3564,3943...|\n",
      "|Coronavirus Austr...|        Positive|[coronavirus, aus...|[coronavirus, aus...|(65536,[2284,4482...|(65536,[2284,4482...|  0.0|(65536,[2284,4482...|\n",
      "|As news of the re...|        Positive|[as, news, of, th...|[news, region, fi...|(65536,[308,338,3...|(65536,[308,338,3...|  0.0|(65536,[308,338,3...|\n",
      "|\"Cashier at groce...|        Positive|[cashier, at, gro...|[cashier, grocery...|(65536,[3436,4447...|(65536,[3436,4447...|  0.0|(65536,[3436,4447...|\n",
      "|Due to COVID-19 o...|        Positive|[due, to, covid, ...|[due, covid, 19, ...|(65536,[6122,1139...|(65536,[6122,1139...|  0.0|(65536,[6122,1139...|\n",
      "|For corona preven...|        Negative|[for, corona, pre...|[corona, preventi...|(65536,[298,721,1...|(65536,[298,721,1...|  1.0|(65536,[298,721,1...|\n",
      "|All month there h...|         Neutral|[all, month, ther...|[month, hasn, cro...|(65536,[1434,4739...|(65536,[1434,4739...|  2.0|(65536,[1434,4739...|\n",
      "|#horningsea is a ...|        Positive|[horningsea, is, ...|[horningsea, cari...|(65536,[7713,8615...|(65536,[7713,8615...|  0.0|(65536,[7713,8615...|\n",
      "|For those who are...|        Positive|[for, those, who,...|[aren, struggling...|(65536,[2544,1139...|(65536,[2544,1139...|  0.0|(65536,[2544,1139...|\n",
      "|with 100  nations...|        Negative|[with, 100, natio...|[100, nations, in...|(65536,[5854,7032...|(65536,[5854,7032...|  1.0|(65536,[5854,7032...|\n",
      "|@10DowningStreet ...|        Negative|[10downingstreet,...|[10downingstreet,...|(65536,[4260,6601...|(65536,[4260,6601...|  1.0|(65536,[4260,6601...|\n",
      "|UK #consumer poll...|        Positive|[uk, consumer, po...|[uk, consumer, po...|(65536,[1546,2171...|(65536,[1546,2171...|  0.0|(65536,[1546,2171...|\n",
      "|In preparation fo...|        Negative|[in, preparation,...|[preparation, hig...|(65536,[11395,131...|(65536,[11395,131...|  1.0|(65536,[11395,131...|\n",
      "|This morning I te...|        Negative|[this, morning, i...|[morning, tested,...|(65536,[600,1483,...|(65536,[600,1483,...|  1.0|(65536,[600,1483,...|\n",
      "|Went to the super...|         Neutral|[went, to, the, s...|[went, supermarke...|(65536,[298,1434,...|(65536,[298,1434,...|  2.0|(65536,[298,1434,...|\n",
      "|Worried about the...|        Positive|[worried, about, ...|[worried, impact,...|(65536,[3639,3861...|(65536,[3639,3861...|  0.0|(65536,[3639,3861...|\n",
      "|Now I can go to t...|        Positive|[now, i, can, go,...|[go, supermarket,...|(65536,[1434,1165...|(65536,[1434,1165...|  0.0|(65536,[1434,1165...|\n",
      "|CHECK VIDEO ?? ht...|        Negative|[check, video, ht...|[check, video, ht...|(65536,[6397,7150...|(65536,[6397,7150...|  1.0|(65536,[6397,7150...|\n",
      "|Breaking Story: O...|         Neutral|[breaking, story,...|[breaking, story,...|(65536,[7350,1003...|(65536,[7350,1003...|  2.0|(65536,[7350,1003...|\n",
      "+--------------------+----------------+--------------------+--------------------+--------------------+--------------------+-----+--------------------+\n",
      "only showing top 20 rows\n",
      "\n"
     ]
    }
   ],
   "source": [
    "clean_data.show()"
   ]
  },
  {
   "cell_type": "code",
   "execution_count": 26,
   "metadata": {},
   "outputs": [],
   "source": [
    "clean_data=clean_data.select(['label','features'])"
   ]
  },
  {
   "cell_type": "code",
   "execution_count": 27,
   "metadata": {},
   "outputs": [
    {
     "name": "stdout",
     "output_type": "stream",
     "text": [
      "+-----+--------------------+\n",
      "|label|            features|\n",
      "+-----+--------------------+\n",
      "|  2.0|(65536,[8455,1542...|\n",
      "|  0.0|(65536,[3564,3943...|\n",
      "|  0.0|(65536,[2284,4482...|\n",
      "|  0.0|(65536,[308,338,3...|\n",
      "|  0.0|(65536,[3436,4447...|\n",
      "|  0.0|(65536,[6122,1139...|\n",
      "|  1.0|(65536,[298,721,1...|\n",
      "|  2.0|(65536,[1434,4739...|\n",
      "|  0.0|(65536,[7713,8615...|\n",
      "|  0.0|(65536,[2544,1139...|\n",
      "|  1.0|(65536,[5854,7032...|\n",
      "|  1.0|(65536,[4260,6601...|\n",
      "|  0.0|(65536,[1546,2171...|\n",
      "|  1.0|(65536,[11395,131...|\n",
      "|  1.0|(65536,[600,1483,...|\n",
      "|  2.0|(65536,[298,1434,...|\n",
      "|  0.0|(65536,[3639,3861...|\n",
      "|  0.0|(65536,[1434,1165...|\n",
      "|  1.0|(65536,[6397,7150...|\n",
      "|  2.0|(65536,[7350,1003...|\n",
      "+-----+--------------------+\n",
      "only showing top 20 rows\n",
      "\n"
     ]
    }
   ],
   "source": [
    "clean_data.show()"
   ]
  },
  {
   "cell_type": "markdown",
   "metadata": {},
   "source": [
    "# Model"
   ]
  },
  {
   "cell_type": "code",
   "execution_count": 28,
   "metadata": {},
   "outputs": [],
   "source": [
    "nb=NaiveBayes()"
   ]
  },
  {
   "cell_type": "markdown",
   "metadata": {},
   "source": [
    "# Machine Learning"
   ]
  },
  {
   "cell_type": "code",
   "execution_count": 29,
   "metadata": {},
   "outputs": [],
   "source": [
    "(train_set, test_set) = clean_data.randomSplit([0.7, 0.3])"
   ]
  },
  {
   "cell_type": "code",
   "execution_count": 30,
   "metadata": {},
   "outputs": [],
   "source": [
    "df_predictor=nb.fit(train_set)"
   ]
  },
  {
   "cell_type": "code",
   "execution_count": 31,
   "metadata": {},
   "outputs": [],
   "source": [
    "test_results=df_predictor.transform(test_set)"
   ]
  },
  {
   "cell_type": "code",
   "execution_count": 32,
   "metadata": {},
   "outputs": [
    {
     "name": "stdout",
     "output_type": "stream",
     "text": [
      "+-----+--------------------+--------------------+--------------------+----------+\n",
      "|label|            features|       rawPrediction|         probability|prediction|\n",
      "+-----+--------------------+--------------------+--------------------+----------+\n",
      "|  0.0|(65536,[7,251,263...|[-1655.2816646440...|[7.77668790059235...|       1.0|\n",
      "|  0.0|(65536,[12,106,14...|[-1725.0451859823...|[1.0,2.3819166212...|       0.0|\n",
      "|  0.0|(65536,[12,205,28...|[-1724.8047957561...|[0.98981871406833...|       0.0|\n",
      "|  0.0|(65536,[12,649,71...|[-1496.0394748847...|[5.56224471339631...|       1.0|\n",
      "|  0.0|(65536,[12,1487,2...|[-947.87710181834...|[0.99999999999461...|       0.0|\n",
      "|  0.0|(65536,[12,2803,8...|[-1050.0668379266...|[4.16276904719195...|       1.0|\n",
      "|  0.0|(65536,[12,3775,9...|[-881.21097101835...|[5.08921340612163...|       1.0|\n",
      "|  0.0|(65536,[12,3861,6...|[-1123.6142014100...|[1.0,2.2138875717...|       0.0|\n",
      "|  0.0|(65536,[12,5914,7...|[-1070.2853989254...|[1.0,6.2406339692...|       0.0|\n",
      "|  0.0|(65536,[12,8984,9...|[-437.81511557528...|[0.07773318913017...|       1.0|\n",
      "|  0.0|(65536,[19,338,67...|[-1317.5434328978...|[0.99999789165240...|       0.0|\n",
      "|  0.0|(65536,[19,737,20...|[-1406.3658276651...|[1.0,6.2053837643...|       0.0|\n",
      "|  0.0|(65536,[19,2544,2...|[-635.55359378167...|[0.99999990509297...|       0.0|\n",
      "|  0.0|(65536,[19,2570,2...|[-1199.8107905255...|[1.0,3.2229059715...|       0.0|\n",
      "|  0.0|(65536,[19,4948,7...|[-1412.4594950457...|[1.71701098831205...|       2.0|\n",
      "|  0.0|(65536,[32,637,58...|[-860.74042763074...|[0.99999999999999...|       0.0|\n",
      "|  0.0|(65536,[32,637,81...|[-1065.3812370266...|[0.99912616706472...|       0.0|\n",
      "|  0.0|(65536,[32,1434,2...|[-1503.8749532845...|[0.99999998970937...|       0.0|\n",
      "|  0.0|(65536,[32,1434,1...|[-375.41912331988...|[1.27117005280753...|       2.0|\n",
      "|  0.0|(65536,[32,1564,4...|[-1133.0409061636...|[4.28169845845745...|       1.0|\n",
      "+-----+--------------------+--------------------+--------------------+----------+\n",
      "only showing top 20 rows\n",
      "\n"
     ]
    }
   ],
   "source": [
    "test_results.show()"
   ]
  },
  {
   "cell_type": "code",
   "execution_count": 33,
   "metadata": {},
   "outputs": [],
   "source": [
    "acc_eval=MulticlassClassificationEvaluator()\n",
    "acc=acc_eval.evaluate(test_results)"
   ]
  },
  {
   "cell_type": "code",
   "execution_count": 34,
   "metadata": {},
   "outputs": [
    {
     "name": "stdout",
     "output_type": "stream",
     "text": [
      "Accuracy of the model is:: 0.59322863821896\n"
     ]
    }
   ],
   "source": [
    "print(\"Accuracy of the model is::\", acc)"
   ]
  },
  {
   "cell_type": "markdown",
   "metadata": {},
   "source": [
    "# Logistic Regression"
   ]
  },
  {
   "cell_type": "code",
   "execution_count": 35,
   "metadata": {},
   "outputs": [],
   "source": [
    "LR = LogisticRegression(maxIter=100)\n",
    "model = LR.fit(train_set)\n",
    "predictions = model.transform(test_set)"
   ]
  },
  {
   "cell_type": "code",
   "execution_count": 36,
   "metadata": {},
   "outputs": [
    {
     "name": "stdout",
     "output_type": "stream",
     "text": [
      "+-----+--------------------+--------------------+--------------------+----------+\n",
      "|label|            features|       rawPrediction|         probability|prediction|\n",
      "+-----+--------------------+--------------------+--------------------+----------+\n",
      "|  0.0|(65536,[7,251,263...|[7.25863032460698...|[0.99990707794316...|       0.0|\n",
      "|  0.0|(65536,[12,106,14...|[86.2276981431049...|[1.0,3.5471242557...|       0.0|\n",
      "|  0.0|(65536,[12,205,28...|[51.6063404533206...|[0.20098844762330...|       1.0|\n",
      "|  0.0|(65536,[12,649,71...|[13.8221454308885...|[2.34513161945049...|       1.0|\n",
      "|  0.0|(65536,[12,1487,2...|[35.6737128258868...|[0.99999791730854...|       0.0|\n",
      "|  0.0|(65536,[12,2803,8...|[2.22810001191648...|[6.41157667332719...|       1.0|\n",
      "|  0.0|(65536,[12,3775,9...|[27.4913712612726...|[1.91043470917600...|       1.0|\n",
      "|  0.0|(65536,[12,3861,6...|[85.4689953257695...|[1.0,7.2104401005...|       0.0|\n",
      "|  0.0|(65536,[12,5914,7...|[70.4534159596876...|[1.0,9.1918087244...|       0.0|\n",
      "|  0.0|(65536,[12,8984,9...|[33.9051528163716...|[0.99999999999558...|       0.0|\n",
      "|  0.0|(65536,[19,338,67...|[17.4482843067900...|[4.05383837171543...|       2.0|\n",
      "|  0.0|(65536,[19,737,20...|[64.5848662129556...|[1.0,1.9176117203...|       0.0|\n",
      "|  0.0|(65536,[19,2544,2...|[58.1995969925155...|[1.0,5.4348859467...|       0.0|\n",
      "|  0.0|(65536,[19,2570,2...|[13.5040279516389...|[4.92685254073458...|       2.0|\n",
      "|  0.0|(65536,[19,4948,7...|[-56.835847676503...|[2.13286305377657...|       1.0|\n",
      "|  0.0|(65536,[32,637,58...|[51.1399935215469...|[1.0,3.5047827446...|       0.0|\n",
      "|  0.0|(65536,[32,637,81...|[10.6879198407570...|[0.94226465513156...|       0.0|\n",
      "|  0.0|(65536,[32,1434,2...|[-25.045929900458...|[9.44697281492084...|       1.0|\n",
      "|  0.0|(65536,[32,1434,1...|[-16.962450989149...|[5.35447675234031...|       2.0|\n",
      "|  0.0|(65536,[32,1564,4...|[68.3170885404707...|[1.0,3.0409335449...|       0.0|\n",
      "|  0.0|(65536,[32,3496,3...|[7.15579106616076...|[0.99993061125683...|       0.0|\n",
      "|  0.0|(65536,[52,298,49...|[-10.336886471392...|[1.60446218069604...|       1.0|\n",
      "|  0.0|(65536,[79,8704,1...|[29.0985709652290...|[0.99999999999999...|       0.0|\n",
      "|  0.0|(65536,[106,5914,...|[64.9650557704642...|[1.0,1.1965565052...|       0.0|\n",
      "|  0.0|(65536,[110,1434,...|[-46.860150191136...|[8.68238346490337...|       1.0|\n",
      "|  0.0|(65536,[110,1847,...|[62.9898291609568...|[1.0,2.8465335381...|       0.0|\n",
      "|  0.0|(65536,[120,124,4...|[105.368633049506...|[1.0,2.4718337407...|       0.0|\n",
      "|  0.0|(65536,[145,1671,...|[15.6991402424209...|[0.99996781763249...|       0.0|\n",
      "|  0.0|(65536,[178,1988,...|[88.0259273294690...|[1.0,1.0304925421...|       0.0|\n",
      "|  0.0|(65536,[181,1434,...|[5.11253072279696...|[9.54750385353251...|       2.0|\n",
      "|  0.0|(65536,[205,600,2...|[4.90871639307981...|[4.18146573230298...|       1.0|\n",
      "|  0.0|(65536,[205,600,6...|[-13.554144221667...|[2.38860180604756...|       1.0|\n",
      "|  0.0|(65536,[205,1415,...|[20.5047851622143...|[0.76781965482731...|       0.0|\n",
      "|  0.0|(65536,[205,1681,...|[32.0023331290151...|[1.05317427868587...|       1.0|\n",
      "|  0.0|(65536,[205,1946,...|[81.3629728757557...|[1.0,1.0326708274...|       0.0|\n",
      "|  0.0|(65536,[205,2830,...|[66.9364624088856...|[0.99999999999996...|       0.0|\n",
      "|  0.0|(65536,[205,3235,...|[45.9613346692165...|[1.0,2.0182482691...|       0.0|\n",
      "|  0.0|(65536,[205,4346,...|[52.7726569605239...|[1.0,1.6971994899...|       0.0|\n",
      "|  0.0|(65536,[205,5104,...|[27.5408483314518...|[0.00283962244365...|       1.0|\n",
      "|  0.0|(65536,[205,6270,...|[18.0744477617502...|[1.23923953863048...|       2.0|\n",
      "+-----+--------------------+--------------------+--------------------+----------+\n",
      "only showing top 40 rows\n",
      "\n"
     ]
    }
   ],
   "source": [
    "predictions.show(40)"
   ]
  },
  {
   "cell_type": "code",
   "execution_count": 37,
   "metadata": {},
   "outputs": [],
   "source": [
    "evaluator = BinaryClassificationEvaluator()\n",
    "acc_LR=evaluator.evaluate(predictions)"
   ]
  },
  {
   "cell_type": "code",
   "execution_count": 38,
   "metadata": {},
   "outputs": [
    {
     "name": "stdout",
     "output_type": "stream",
     "text": [
      "Accuracy of the model is:: 0.7204163147465437\n"
     ]
    }
   ],
   "source": [
    "print(\"Accuracy of the model is::\", acc_LR)"
   ]
  },
  {
   "cell_type": "code",
   "execution_count": null,
   "metadata": {},
   "outputs": [],
   "source": [
    "# Problem 1 completed"
   ]
  }
 ],
 "metadata": {
  "kernelspec": {
   "display_name": "Python 3",
   "language": "python",
   "name": "python3"
  },
  "language_info": {
   "codemirror_mode": {
    "name": "ipython",
    "version": 3
   },
   "file_extension": ".py",
   "mimetype": "text/x-python",
   "name": "python",
   "nbconvert_exporter": "python",
   "pygments_lexer": "ipython3",
   "version": "3.7.3"
  }
 },
 "nbformat": 4,
 "nbformat_minor": 2
}
